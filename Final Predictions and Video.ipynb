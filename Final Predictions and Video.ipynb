{
  "nbformat": 4,
  "nbformat_minor": 0,
  "metadata": {
    "colab": {
      "name": "Untitled31.ipynb",
      "provenance": [],
      "mount_file_id": "1QyMzBleHweKY9dwEBfKYLsFv0u9-0u3a",
      "authorship_tag": "ABX9TyN9HpO09CdZM5iB5KhnQvQG",
      "include_colab_link": true
    },
    "kernelspec": {
      "name": "python3",
      "display_name": "Python 3"
    }
  },
  "cells": [
    {
      "cell_type": "markdown",
      "metadata": {
        "id": "view-in-github",
        "colab_type": "text"
      },
      "source": [
        "<a href=\"https://colab.research.google.com/github/nupur1262/Geeksman_AISquad_Project2_NUPUR1/blob/master/Final%20Predictions%20and%20Video.ipynb\" target=\"_parent\"><img src=\"https://colab.research.google.com/assets/colab-badge.svg\" alt=\"Open In Colab\"/></a>"
      ]
    },
    {
      "cell_type": "code",
      "metadata": {
        "id": "jlfBdNBldxUE",
        "colab_type": "code",
        "colab": {}
      },
      "source": [
        "%reload_ext autoreload\n",
        "%autoreload 2\n",
        "%matplotlib inline\n",
        "from fastai.vision import *\n",
        "from fastai.metrics import error_rate\n",
        "import warnings\n",
        "warnings.filterwarnings(\"ignore\")"
      ],
      "execution_count": 1,
      "outputs": []
    },
    {
      "cell_type": "code",
      "metadata": {
        "id": "aDQTNjgad4cb",
        "colab_type": "code",
        "colab": {}
      },
      "source": [
        "predictor = load_learner('/content/drive/My Drive/face-detection-final/')"
      ],
      "execution_count": 2,
      "outputs": []
    },
    {
      "cell_type": "code",
      "metadata": {
        "id": "U2BXj-z8eI68",
        "colab_type": "code",
        "colab": {}
      },
      "source": [
        "def my_predictor(pic):\n",
        "  test_img =open_image(pic)\n",
        "  pred_class,pred_idx,outputs=predictor.predict(test_img)\n",
        "  return pred_class"
      ],
      "execution_count": 3,
      "outputs": []
    },
    {
      "cell_type": "code",
      "metadata": {
        "id": "v8RXXzD2eNvH",
        "colab_type": "code",
        "colab": {
          "base_uri": "https://localhost:8080/",
          "height": 208
        },
        "outputId": "2e3e196f-9a9c-4dd7-ae0d-66e33ec3d4df"
      },
      "source": [
        "!wget -O \"haarcascade_frontalface_default.xml\" \"https://raw.githubusercontent.com/opencv/opencv/master/data/haarcascades/haarcascade_frontalface_default.xml\""
      ],
      "execution_count": 4,
      "outputs": [
        {
          "output_type": "stream",
          "text": [
            "--2020-08-28 21:24:03--  https://raw.githubusercontent.com/opencv/opencv/master/data/haarcascades/haarcascade_frontalface_default.xml\n",
            "Resolving raw.githubusercontent.com (raw.githubusercontent.com)... 151.101.0.133, 151.101.64.133, 151.101.128.133, ...\n",
            "Connecting to raw.githubusercontent.com (raw.githubusercontent.com)|151.101.0.133|:443... connected.\n",
            "HTTP request sent, awaiting response... 200 OK\n",
            "Length: 930127 (908K) [text/plain]\n",
            "Saving to: ‘haarcascade_frontalface_default.xml’\n",
            "\n",
            "haarcascade_frontal 100%[===================>] 908.33K  --.-KB/s    in 0.1s    \n",
            "\n",
            "2020-08-28 21:24:03 (7.42 MB/s) - ‘haarcascade_frontalface_default.xml’ saved [930127/930127]\n",
            "\n"
          ],
          "name": "stdout"
        }
      ]
    },
    {
      "cell_type": "code",
      "metadata": {
        "id": "nwsYOu-PiN0c",
        "colab_type": "code",
        "colab": {}
      },
      "source": [
        "import cv2\n",
        "test_files=os.listdir(\"/content/drive/My Drive/testing\")\n",
        "os.makedirs(\"test_result\",exist_ok=True)\n",
        "i=0\n",
        "for test_file in test_files:\n",
        "  img = cv2.imread(f'/content/drive/My Drive/testing/{test_file}')\n",
        "  cv2.imwrite(\"temp.jpg\",img)\n",
        "  ans_tex t= my_predictor(\"temp.jpg\")\n",
        "  font = cv2.FONT_HERSHEY_SIMPLEX \n",
        "  i+=1\n",
        "  org = (0, 50) \n",
        "  fontScale = 0.5\n",
        "  color = (255, 225, 0) \n",
        "  thickness = 1\n",
        "  img = cv2.putText(img, str(ans_text), org, font,fontScale, color, thickness, cv2.LINE_AA) \n",
        "  cv2.imwrite(\"test_result/\"+str(i)+\".jpg\", img)"
      ],
      "execution_count": null,
      "outputs": []
    },
    {
      "cell_type": "code",
      "metadata": {
        "id": "SbVZZ3YUjJTS",
        "colab_type": "code",
        "colab": {
          "base_uri": "https://localhost:8080/",
          "height": 938
        },
        "outputId": "2fd8c42e-ebff-432b-c6a5-baf5f66c7077"
      },
      "source": [
        "%cd \"test_result\"\n",
        "!ffmpeg -framerate 1 -pattern_type glob -i '*.jpg' -s 1920x1080  \\-c:v libx264 -r 1 -pix_fmt yuv420p ../my_final_output.mp4\n",
        "%cd .."
      ],
      "execution_count": 7,
      "outputs": [
        {
          "output_type": "stream",
          "text": [
            "/content/test_result\n",
            "ffmpeg version 3.4.8-0ubuntu0.2 Copyright (c) 2000-2020 the FFmpeg developers\n",
            "  built with gcc 7 (Ubuntu 7.5.0-3ubuntu1~18.04)\n",
            "  configuration: --prefix=/usr --extra-version=0ubuntu0.2 --toolchain=hardened --libdir=/usr/lib/x86_64-linux-gnu --incdir=/usr/include/x86_64-linux-gnu --enable-gpl --disable-stripping --enable-avresample --enable-avisynth --enable-gnutls --enable-ladspa --enable-libass --enable-libbluray --enable-libbs2b --enable-libcaca --enable-libcdio --enable-libflite --enable-libfontconfig --enable-libfreetype --enable-libfribidi --enable-libgme --enable-libgsm --enable-libmp3lame --enable-libmysofa --enable-libopenjpeg --enable-libopenmpt --enable-libopus --enable-libpulse --enable-librubberband --enable-librsvg --enable-libshine --enable-libsnappy --enable-libsoxr --enable-libspeex --enable-libssh --enable-libtheora --enable-libtwolame --enable-libvorbis --enable-libvpx --enable-libwavpack --enable-libwebp --enable-libx265 --enable-libxml2 --enable-libxvid --enable-libzmq --enable-libzvbi --enable-omx --enable-openal --enable-opengl --enable-sdl2 --enable-libdc1394 --enable-libdrm --enable-libiec61883 --enable-chromaprint --enable-frei0r --enable-libopencv --enable-libx264 --enable-shared\n",
            "  libavutil      55. 78.100 / 55. 78.100\n",
            "  libavcodec     57.107.100 / 57.107.100\n",
            "  libavformat    57. 83.100 / 57. 83.100\n",
            "  libavdevice    57. 10.100 / 57. 10.100\n",
            "  libavfilter     6.107.100 /  6.107.100\n",
            "  libavresample   3.  7.  0 /  3.  7.  0\n",
            "  libswscale      4.  8.100 /  4.  8.100\n",
            "  libswresample   2.  9.100 /  2.  9.100\n",
            "  libpostproc    54.  7.100 / 54.  7.100\n",
            "Input #0, image2, from '*.jpg':\n",
            "  Duration: 00:00:36.00, start: 0.000000, bitrate: N/A\n",
            "    Stream #0:0: Video: mjpeg, yuvj420p(pc, bt470bg/unknown/unknown), 446x446 [SAR 1:1 DAR 1:1], 1 fps, 1 tbr, 1 tbn, 1 tbc\n",
            "Stream mapping:\n",
            "  Stream #0:0 -> #0:0 (mjpeg (native) -> h264 (libx264))\n",
            "Press [q] to stop, [?] for help\n",
            "\u001b[1;34m[swscaler @ 0x561ea6d9e000] \u001b[0m\u001b[0;33mdeprecated pixel format used, make sure you did set range correctly\n",
            "\u001b[0m\u001b[1;36m[libx264 @ 0x561ea6c83e00] \u001b[0musing SAR=9/16\n",
            "\u001b[1;36m[libx264 @ 0x561ea6c83e00] \u001b[0musing cpu capabilities: MMX2 SSE2Fast SSSE3 SSE4.2 AVX FMA3 BMI2 AVX2\n",
            "\u001b[1;36m[libx264 @ 0x561ea6c83e00] \u001b[0mprofile High, level 4.0\n",
            "\u001b[1;36m[libx264 @ 0x561ea6c83e00] \u001b[0m264 - core 152 r2854 e9a5903 - H.264/MPEG-4 AVC codec - Copyleft 2003-2017 - http://www.videolan.org/x264.html - options: cabac=1 ref=3 deblock=1:0:0 analyse=0x3:0x113 me=hex subme=7 psy=1 psy_rd=1.00:0.00 mixed_ref=1 me_range=16 chroma_me=1 trellis=1 8x8dct=1 cqm=0 deadzone=21,11 fast_pskip=1 chroma_qp_offset=-2 threads=3 lookahead_threads=1 sliced_threads=0 nr=0 decimate=1 interlaced=0 bluray_compat=0 constrained_intra=0 bframes=3 b_pyramid=2 b_adapt=1 b_bias=0 direct=1 weightb=1 open_gop=0 weightp=2 keyint=250 keyint_min=1 scenecut=40 intra_refresh=0 rc_lookahead=40 rc=crf mbtree=1 crf=23.0 qcomp=0.60 qpmin=0 qpmax=69 qpstep=4 ip_ratio=1.40 aq=1:1.00\n",
            "Output #0, mp4, to '../my_final_output.mp4':\n",
            "  Metadata:\n",
            "    encoder         : Lavf57.83.100\n",
            "    Stream #0:0: Video: h264 (libx264) (avc1 / 0x31637661), yuv420p, 1920x1080 [SAR 9:16 DAR 1:1], q=-1--1, 1 fps, 16384 tbn, 1 tbc\n",
            "    Metadata:\n",
            "      encoder         : Lavc57.107.100 libx264\n",
            "    Side data:\n",
            "      cpb: bitrate max/min/avg: 0/0/0 buffer size: 0 vbv_delay: -1\n",
            "\u001b[1;34m[swscaler @ 0x561ea6d80000] \u001b[0m\u001b[0;33mdeprecated pixel format used, make sure you did set range correctly\n",
            "    Last message repeated 11 times\n",
            "\u001b[1;34m[swscaler @ 0x561eaa5e0000] \u001b[0m\u001b[0;33mdeprecated pixel format used, make sure you did set range correctly\n",
            "    Last message repeated 18 times\n",
            "frame=   36 fps=3.6 q=-1.0 Lsize=    2669kB time=00:00:33.00 bitrate= 662.5kbits/s speed=3.28x    \n",
            "video:2668kB audio:0kB subtitle:0kB other streams:0kB global headers:0kB muxing overhead: 0.037704%\n",
            "\u001b[1;36m[libx264 @ 0x561ea6c83e00] \u001b[0mframe I:1     Avg QP:14.02  size:106107\n",
            "\u001b[1;36m[libx264 @ 0x561ea6c83e00] \u001b[0mframe P:35    Avg QP:12.78  size: 75001\n",
            "\u001b[1;36m[libx264 @ 0x561ea6c83e00] \u001b[0mmb I  I16..4:  8.1% 80.4% 11.5%\n",
            "\u001b[1;36m[libx264 @ 0x561ea6c83e00] \u001b[0mmb P  I16..4: 19.2% 65.1% 15.6%  P16..4:  0.1%  0.1%  0.0%  0.0%  0.0%    skip: 0.0%\n",
            "\u001b[1;36m[libx264 @ 0x561ea6c83e00] \u001b[0m8x8 transform intra:65.6% inter:95.1%\n",
            "\u001b[1;36m[libx264 @ 0x561ea6c83e00] \u001b[0mcoded y,uvDC,uvAC intra: 61.0% 63.0% 40.8% inter: 77.6% 96.6% 28.9%\n",
            "\u001b[1;36m[libx264 @ 0x561ea6c83e00] \u001b[0mi16 v,h,dc,p: 20% 18%  1% 61%\n",
            "\u001b[1;36m[libx264 @ 0x561ea6c83e00] \u001b[0mi8 v,h,dc,ddl,ddr,vr,hd,vl,hu: 23% 33%  8%  5%  6%  5%  8%  5%  7%\n",
            "\u001b[1;36m[libx264 @ 0x561ea6c83e00] \u001b[0mi4 v,h,dc,ddl,ddr,vr,hd,vl,hu: 27% 34%  7%  4% 10%  5%  8%  3%  2%\n",
            "\u001b[1;36m[libx264 @ 0x561ea6c83e00] \u001b[0mi8c dc,h,v,p: 42% 29% 14% 16%\n",
            "\u001b[1;36m[libx264 @ 0x561ea6c83e00] \u001b[0mWeighted P-Frames: Y:0.0% UV:0.0%\n",
            "\u001b[1;36m[libx264 @ 0x561ea6c83e00] \u001b[0mref P L0: 53.8% 13.8% 13.9% 18.5%\n",
            "\u001b[1;36m[libx264 @ 0x561ea6c83e00] \u001b[0mkb/s:606.92\n",
            "/content\n"
          ],
          "name": "stdout"
        }
      ]
    },
    {
      "cell_type": "code",
      "metadata": {
        "id": "VkxVfkvD7tte",
        "colab_type": "code",
        "colab": {
          "base_uri": "https://localhost:8080/",
          "height": 86
        },
        "outputId": "83f28973-5b04-4f3e-8622-9b199597255c"
      },
      "source": [
        "!pip install -U kora\n",
        "from kora.drive import upload_public"
      ],
      "execution_count": 8,
      "outputs": [
        {
          "output_type": "stream",
          "text": [
            "Collecting kora\n",
            "  Downloading https://files.pythonhosted.org/packages/4d/f1/09dcba79d143c9645251c2f2b86c0123e05af28d3a382cbe247093e51525/kora-0.5.5-py3-none-any.whl\n",
            "Installing collected packages: kora\n",
            "Successfully installed kora-0.5.5\n"
          ],
          "name": "stdout"
        }
      ]
    },
    {
      "cell_type": "code",
      "metadata": {
        "id": "ERfHuEAW71JG",
        "colab_type": "code",
        "colab": {
          "base_uri": "https://localhost:8080/",
          "height": 34
        },
        "outputId": "f9a0f455-9c48-4a29-9e42-fc86267f3932"
      },
      "source": [
        "url = upload_public('my_final_output.mp4')\n",
        "url"
      ],
      "execution_count": 9,
      "outputs": [
        {
          "output_type": "execute_result",
          "data": {
            "application/vnd.google.colaboratory.intrinsic+json": {
              "type": "string"
            },
            "text/plain": [
              "'https://drive.google.com/uc?id=1z9-GFn0HpqHVjYC4KmDdK_ukXkCohPtr'"
            ]
          },
          "metadata": {
            "tags": []
          },
          "execution_count": 9
        }
      ]
    },
    {
      "cell_type": "code",
      "metadata": {
        "id": "_UyUZLzY758U",
        "colab_type": "code",
        "colab": {
          "base_uri": "https://localhost:8080/",
          "height": 521
        },
        "outputId": "530decd1-d84d-499d-cc86-20d904a5848d"
      },
      "source": [
        "\n",
        "from IPython.display import HTML\n",
        "HTML(f\"\"\"<video src={url} width=500 controls/>\"\"\")"
      ],
      "execution_count": 10,
      "outputs": [
        {
          "output_type": "execute_result",
          "data": {
            "text/html": [
              "<video src=https://drive.google.com/uc?id=1z9-GFn0HpqHVjYC4KmDdK_ukXkCohPtr width=500 controls/>"
            ],
            "text/plain": [
              "<IPython.core.display.HTML object>"
            ]
          },
          "metadata": {
            "tags": []
          },
          "execution_count": 10
        }
      ]
    }
  ]
}